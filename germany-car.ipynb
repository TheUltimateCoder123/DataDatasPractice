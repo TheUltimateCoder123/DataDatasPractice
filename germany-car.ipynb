{
 "cells": [
  {
   "cell_type": "code",
   "execution_count": 1,
   "id": "da67c47e",
   "metadata": {
    "_cell_guid": "b1076dfc-b9ad-4769-8c92-a6c4dae69d19",
    "_uuid": "8f2839f25d086af736a60e9eeb907d3b93b6e0e5",
    "execution": {
     "iopub.execute_input": "2023-06-26T21:28:26.850256Z",
     "iopub.status.busy": "2023-06-26T21:28:26.849878Z",
     "iopub.status.idle": "2023-06-26T21:28:26.868967Z",
     "shell.execute_reply": "2023-06-26T21:28:26.867974Z"
    },
    "papermill": {
     "duration": 0.030192,
     "end_time": "2023-06-26T21:28:26.871446",
     "exception": false,
     "start_time": "2023-06-26T21:28:26.841254",
     "status": "completed"
    },
    "tags": []
   },
   "outputs": [
    {
     "name": "stdout",
     "output_type": "stream",
     "text": [
      "/kaggle/input/germany-used-cars-dataset-2023/data.csv\n"
     ]
    }
   ],
   "source": [
    "# This Python 3 environment comes with many helpful analytics libraries installed\n",
    "# It is defined by the kaggle/python Docker image: https://github.com/kaggle/docker-python\n",
    "# For example, here's several helpful packages to load\n",
    "\n",
    "import numpy as np # linear algebra\n",
    "import pandas as pd # data processing, CSV file I/O (e.g. pd.read_csv)\n",
    "\n",
    "# Input data files are available in the read-only \"../input/\" directory\n",
    "# For example, running this (by clicking run or pressing Shift+Enter) will list all files under the input directory\n",
    "\n",
    "import os\n",
    "for dirname, _, filenames in os.walk('/kaggle/input'):\n",
    "    for filename in filenames:\n",
    "        print(os.path.join(dirname, filename))\n",
    "\n",
    "# You can write up to 20GB to the current directory (/kaggle/working/) that gets preserved as output when you create a version using \"Save & Run All\" \n",
    "# You can also write temporary files to /kaggle/temp/, but they won't be saved outside of the current session"
   ]
  },
  {
   "cell_type": "code",
   "execution_count": 2,
   "id": "7a994c28",
   "metadata": {
    "execution": {
     "iopub.execute_input": "2023-06-26T21:28:26.886597Z",
     "iopub.status.busy": "2023-06-26T21:28:26.885873Z",
     "iopub.status.idle": "2023-06-26T21:28:28.357954Z",
     "shell.execute_reply": "2023-06-26T21:28:28.356949Z"
    },
    "papermill": {
     "duration": 1.482337,
     "end_time": "2023-06-26T21:28:28.360680",
     "exception": false,
     "start_time": "2023-06-26T21:28:26.878343",
     "status": "completed"
    },
    "tags": []
   },
   "outputs": [
    {
     "data": {
      "text/html": [
       "<div>\n",
       "<style scoped>\n",
       "    .dataframe tbody tr th:only-of-type {\n",
       "        vertical-align: middle;\n",
       "    }\n",
       "\n",
       "    .dataframe tbody tr th {\n",
       "        vertical-align: top;\n",
       "    }\n",
       "\n",
       "    .dataframe thead th {\n",
       "        text-align: right;\n",
       "    }\n",
       "</style>\n",
       "<table border=\"1\" class=\"dataframe\">\n",
       "  <thead>\n",
       "    <tr style=\"text-align: right;\">\n",
       "      <th></th>\n",
       "      <th>brand</th>\n",
       "      <th>model</th>\n",
       "      <th>color</th>\n",
       "      <th>registration_date</th>\n",
       "      <th>year</th>\n",
       "      <th>price_in_euro</th>\n",
       "      <th>power_kw</th>\n",
       "      <th>power_ps</th>\n",
       "      <th>transmission_type</th>\n",
       "      <th>fuel_type</th>\n",
       "      <th>fuel_consumption_l_100km</th>\n",
       "      <th>fuel_consumption_g_km</th>\n",
       "      <th>mileage_in_km</th>\n",
       "      <th>offer_description</th>\n",
       "    </tr>\n",
       "  </thead>\n",
       "  <tbody>\n",
       "    <tr>\n",
       "      <th>0</th>\n",
       "      <td>alfa-romeo</td>\n",
       "      <td>Alfa Romeo GTV</td>\n",
       "      <td>red</td>\n",
       "      <td>10/1995</td>\n",
       "      <td>1995</td>\n",
       "      <td>1300</td>\n",
       "      <td>148</td>\n",
       "      <td>201</td>\n",
       "      <td>Manual</td>\n",
       "      <td>Petrol</td>\n",
       "      <td>10,9 l/100 km</td>\n",
       "      <td>260 g/km</td>\n",
       "      <td>160500.0</td>\n",
       "      <td>2.0 V6 TB</td>\n",
       "    </tr>\n",
       "    <tr>\n",
       "      <th>1</th>\n",
       "      <td>alfa-romeo</td>\n",
       "      <td>Alfa Romeo 164</td>\n",
       "      <td>black</td>\n",
       "      <td>02/1995</td>\n",
       "      <td>1995</td>\n",
       "      <td>24900</td>\n",
       "      <td>191</td>\n",
       "      <td>260</td>\n",
       "      <td>Manual</td>\n",
       "      <td>Petrol</td>\n",
       "      <td>NaN</td>\n",
       "      <td>- (g/km)</td>\n",
       "      <td>190000.0</td>\n",
       "      <td>Q4 Allrad, 3.2L GTA</td>\n",
       "    </tr>\n",
       "    <tr>\n",
       "      <th>2</th>\n",
       "      <td>alfa-romeo</td>\n",
       "      <td>Alfa Romeo Spider</td>\n",
       "      <td>black</td>\n",
       "      <td>02/1995</td>\n",
       "      <td>1995</td>\n",
       "      <td>5900</td>\n",
       "      <td>110</td>\n",
       "      <td>150</td>\n",
       "      <td>Unknown</td>\n",
       "      <td>Petrol</td>\n",
       "      <td>NaN</td>\n",
       "      <td>- (g/km)</td>\n",
       "      <td>129000.0</td>\n",
       "      <td>ALFA ROME 916</td>\n",
       "    </tr>\n",
       "    <tr>\n",
       "      <th>3</th>\n",
       "      <td>alfa-romeo</td>\n",
       "      <td>Alfa Romeo Spider</td>\n",
       "      <td>black</td>\n",
       "      <td>07/1995</td>\n",
       "      <td>1995</td>\n",
       "      <td>4900</td>\n",
       "      <td>110</td>\n",
       "      <td>150</td>\n",
       "      <td>Manual</td>\n",
       "      <td>Petrol</td>\n",
       "      <td>9,5 l/100 km</td>\n",
       "      <td>225 g/km</td>\n",
       "      <td>189500.0</td>\n",
       "      <td>2.0 16V Twin Spark L</td>\n",
       "    </tr>\n",
       "    <tr>\n",
       "      <th>4</th>\n",
       "      <td>alfa-romeo</td>\n",
       "      <td>Alfa Romeo 164</td>\n",
       "      <td>red</td>\n",
       "      <td>11/1996</td>\n",
       "      <td>1996</td>\n",
       "      <td>17950</td>\n",
       "      <td>132</td>\n",
       "      <td>179</td>\n",
       "      <td>Manual</td>\n",
       "      <td>Petrol</td>\n",
       "      <td>7,2 l/100 km</td>\n",
       "      <td>- (g/km)</td>\n",
       "      <td>96127.0</td>\n",
       "      <td>3.0i Super V6, absoluter Topzustand !</td>\n",
       "    </tr>\n",
       "    <tr>\n",
       "      <th>...</th>\n",
       "      <td>...</td>\n",
       "      <td>...</td>\n",
       "      <td>...</td>\n",
       "      <td>...</td>\n",
       "      <td>...</td>\n",
       "      <td>...</td>\n",
       "      <td>...</td>\n",
       "      <td>...</td>\n",
       "      <td>...</td>\n",
       "      <td>...</td>\n",
       "      <td>...</td>\n",
       "      <td>...</td>\n",
       "      <td>...</td>\n",
       "      <td>...</td>\n",
       "    </tr>\n",
       "    <tr>\n",
       "      <th>251074</th>\n",
       "      <td>volvo</td>\n",
       "      <td>Volvo XC40</td>\n",
       "      <td>white</td>\n",
       "      <td>04/2023</td>\n",
       "      <td>2023</td>\n",
       "      <td>57990</td>\n",
       "      <td>192</td>\n",
       "      <td>261</td>\n",
       "      <td>Automatic</td>\n",
       "      <td>Hybrid</td>\n",
       "      <td>NaN</td>\n",
       "      <td>43 km Reichweite</td>\n",
       "      <td>1229.0</td>\n",
       "      <td>Plus Bright T5 Recharge Intellisafe*Surround+P...</td>\n",
       "    </tr>\n",
       "    <tr>\n",
       "      <th>251075</th>\n",
       "      <td>volvo</td>\n",
       "      <td>Volvo XC90</td>\n",
       "      <td>white</td>\n",
       "      <td>03/2023</td>\n",
       "      <td>2023</td>\n",
       "      <td>89690</td>\n",
       "      <td>173</td>\n",
       "      <td>235</td>\n",
       "      <td>Automatic</td>\n",
       "      <td>Diesel</td>\n",
       "      <td>7,6 l/100 km</td>\n",
       "      <td>202 g/km</td>\n",
       "      <td>4900.0</td>\n",
       "      <td>B5 AWD Diesel Ultimate Dark 7-Sitzer Massage F...</td>\n",
       "    </tr>\n",
       "    <tr>\n",
       "      <th>251076</th>\n",
       "      <td>volvo</td>\n",
       "      <td>Volvo V60</td>\n",
       "      <td>white</td>\n",
       "      <td>05/2023</td>\n",
       "      <td>2023</td>\n",
       "      <td>61521</td>\n",
       "      <td>145</td>\n",
       "      <td>197</td>\n",
       "      <td>Automatic</td>\n",
       "      <td>Diesel</td>\n",
       "      <td>4,7 l/100 km</td>\n",
       "      <td>125 g/km</td>\n",
       "      <td>1531.0</td>\n",
       "      <td>B4 D Plus Dark 145 kW, 5-türig (Diesel)</td>\n",
       "    </tr>\n",
       "    <tr>\n",
       "      <th>251077</th>\n",
       "      <td>volvo</td>\n",
       "      <td>Volvo XC40</td>\n",
       "      <td>white</td>\n",
       "      <td>05/2023</td>\n",
       "      <td>2023</td>\n",
       "      <td>57890</td>\n",
       "      <td>132</td>\n",
       "      <td>179</td>\n",
       "      <td>Automatic</td>\n",
       "      <td>Hybrid</td>\n",
       "      <td>NaN</td>\n",
       "      <td>45 km Reichweite</td>\n",
       "      <td>1500.0</td>\n",
       "      <td>T5 Recharge Plus Dark *Standh*360°*beh.Lenk</td>\n",
       "    </tr>\n",
       "    <tr>\n",
       "      <th>251078</th>\n",
       "      <td>volvo</td>\n",
       "      <td>Volvo XC40</td>\n",
       "      <td>gold</td>\n",
       "      <td>03/2023</td>\n",
       "      <td>2023</td>\n",
       "      <td>52900</td>\n",
       "      <td>160</td>\n",
       "      <td>218</td>\n",
       "      <td>Automatic</td>\n",
       "      <td>Electric</td>\n",
       "      <td>NaN</td>\n",
       "      <td>438 km Reichweite</td>\n",
       "      <td>50.0</td>\n",
       "      <td>Ultimate Recharge Twin Motor AHK GJR</td>\n",
       "    </tr>\n",
       "  </tbody>\n",
       "</table>\n",
       "<p>251079 rows × 14 columns</p>\n",
       "</div>"
      ],
      "text/plain": [
       "             brand              model  color registration_date  year  \\\n",
       "0       alfa-romeo     Alfa Romeo GTV    red           10/1995  1995   \n",
       "1       alfa-romeo     Alfa Romeo 164  black           02/1995  1995   \n",
       "2       alfa-romeo  Alfa Romeo Spider  black           02/1995  1995   \n",
       "3       alfa-romeo  Alfa Romeo Spider  black           07/1995  1995   \n",
       "4       alfa-romeo     Alfa Romeo 164    red           11/1996  1996   \n",
       "...            ...                ...    ...               ...   ...   \n",
       "251074       volvo         Volvo XC40  white           04/2023  2023   \n",
       "251075       volvo         Volvo XC90  white           03/2023  2023   \n",
       "251076       volvo          Volvo V60  white           05/2023  2023   \n",
       "251077       volvo         Volvo XC40  white           05/2023  2023   \n",
       "251078       volvo         Volvo XC40   gold           03/2023  2023   \n",
       "\n",
       "       price_in_euro power_kw power_ps transmission_type fuel_type  \\\n",
       "0               1300      148      201            Manual    Petrol   \n",
       "1              24900      191      260            Manual    Petrol   \n",
       "2               5900      110      150           Unknown    Petrol   \n",
       "3               4900      110      150            Manual    Petrol   \n",
       "4              17950      132      179            Manual    Petrol   \n",
       "...              ...      ...      ...               ...       ...   \n",
       "251074         57990      192      261         Automatic    Hybrid   \n",
       "251075         89690      173      235         Automatic    Diesel   \n",
       "251076         61521      145      197         Automatic    Diesel   \n",
       "251077         57890      132      179         Automatic    Hybrid   \n",
       "251078         52900      160      218         Automatic  Electric   \n",
       "\n",
       "       fuel_consumption_l_100km fuel_consumption_g_km  mileage_in_km  \\\n",
       "0                 10,9 l/100 km              260 g/km       160500.0   \n",
       "1                           NaN              - (g/km)       190000.0   \n",
       "2                           NaN              - (g/km)       129000.0   \n",
       "3                  9,5 l/100 km              225 g/km       189500.0   \n",
       "4                  7,2 l/100 km              - (g/km)        96127.0   \n",
       "...                         ...                   ...            ...   \n",
       "251074                      NaN      43 km Reichweite         1229.0   \n",
       "251075             7,6 l/100 km              202 g/km         4900.0   \n",
       "251076             4,7 l/100 km              125 g/km         1531.0   \n",
       "251077                      NaN      45 km Reichweite         1500.0   \n",
       "251078                      NaN     438 km Reichweite           50.0   \n",
       "\n",
       "                                        offer_description  \n",
       "0                                               2.0 V6 TB  \n",
       "1                                     Q4 Allrad, 3.2L GTA  \n",
       "2                                           ALFA ROME 916  \n",
       "3                                    2.0 16V Twin Spark L  \n",
       "4                   3.0i Super V6, absoluter Topzustand !  \n",
       "...                                                   ...  \n",
       "251074  Plus Bright T5 Recharge Intellisafe*Surround+P...  \n",
       "251075  B5 AWD Diesel Ultimate Dark 7-Sitzer Massage F...  \n",
       "251076            B4 D Plus Dark 145 kW, 5-türig (Diesel)  \n",
       "251077        T5 Recharge Plus Dark *Standh*360°*beh.Lenk  \n",
       "251078               Ultimate Recharge Twin Motor AHK GJR  \n",
       "\n",
       "[251079 rows x 14 columns]"
      ]
     },
     "execution_count": 2,
     "metadata": {},
     "output_type": "execute_result"
    }
   ],
   "source": [
    "df=pd.read_csv('/kaggle/input/germany-used-cars-dataset-2023/data.csv',index_col='Unnamed: 0')\n",
    "df"
   ]
  },
  {
   "cell_type": "markdown",
   "id": "fb936db5",
   "metadata": {
    "papermill": {
     "duration": 0.006604,
     "end_time": "2023-06-26T21:28:28.374321",
     "exception": false,
     "start_time": "2023-06-26T21:28:28.367717",
     "status": "completed"
    },
    "tags": []
   },
   "source": [
    "Categorical Columns:<br/>\n",
    "brand: The brand or manufacturer of the car.<br/>\n",
    "model: The specific model of the car.<br/>\n",
    "color: The color of the car's exterior.<br/>\n",
    "registration_date: The date when the car was registered (Month/Year).<br/>\n",
    "transmission_type: The type of transmission (e.g., automatic, manual).<br/>\n",
    "fuel_type: The type of fuel the car requires.<br/>\n",
    "offer_description: Additional description provided in the car offer.<br/>\n",
    "\n",
    "Numerical Columns:<br/>\n",
    "year: The year in which the car was manufactured.<br/>\n",
    "power_kw: The power of the car in kilowatts (kW).<br/>\n",
    "power_ps: The power of the car in horsepower (ps).<br/>\n",
    "fuel_consumption_l_100km: Information about the car's fuel consumption in L/100km.<br/>\n",
    "fuel_consumption_g_km: Information about the car's fuel consumption in g/km.<br/>\n",
    "mileage_in_km: The total distance traveled by the car in km.<br/>\n",
    "<b> price_in_euro</b>: The price of the car in Euros.This is the Output column<br/> "
   ]
  },
  {
   "cell_type": "code",
   "execution_count": 3,
   "id": "c48cf71a",
   "metadata": {
    "execution": {
     "iopub.execute_input": "2023-06-26T21:28:28.391706Z",
     "iopub.status.busy": "2023-06-26T21:28:28.389310Z",
     "iopub.status.idle": "2023-06-26T21:28:29.405575Z",
     "shell.execute_reply": "2023-06-26T21:28:29.404549Z"
    },
    "papermill": {
     "duration": 1.027014,
     "end_time": "2023-06-26T21:28:29.408272",
     "exception": false,
     "start_time": "2023-06-26T21:28:28.381258",
     "status": "completed"
    },
    "tags": []
   },
   "outputs": [
    {
     "name": "stdout",
     "output_type": "stream",
     "text": [
      "<class 'pandas.core.frame.DataFrame'>\n",
      "Int64Index: 251079 entries, 0 to 251078\n",
      "Data columns (total 14 columns):\n",
      " #   Column                    Non-Null Count   Dtype  \n",
      "---  ------                    --------------   -----  \n",
      " 0   brand                     251079 non-null  object \n",
      " 1   model                     251079 non-null  object \n",
      " 2   color                     250913 non-null  object \n",
      " 3   registration_date         251075 non-null  object \n",
      " 4   year                      251079 non-null  object \n",
      " 5   price_in_euro             251079 non-null  object \n",
      " 6   power_kw                  250945 non-null  object \n",
      " 7   power_ps                  250950 non-null  object \n",
      " 8   transmission_type         251079 non-null  object \n",
      " 9   fuel_type                 251079 non-null  object \n",
      " 10  fuel_consumption_l_100km  224206 non-null  object \n",
      " 11  fuel_consumption_g_km     251079 non-null  object \n",
      " 12  mileage_in_km             250927 non-null  float64\n",
      " 13  offer_description         251078 non-null  object \n",
      "dtypes: float64(1), object(13)\n",
      "memory usage: 28.7+ MB\n"
     ]
    }
   ],
   "source": [
    "df.info()"
   ]
  },
  {
   "cell_type": "code",
   "execution_count": 4,
   "id": "11c02552",
   "metadata": {
    "execution": {
     "iopub.execute_input": "2023-06-26T21:28:29.431430Z",
     "iopub.status.busy": "2023-06-26T21:28:29.431004Z",
     "iopub.status.idle": "2023-06-26T21:28:30.440626Z",
     "shell.execute_reply": "2023-06-26T21:28:30.439558Z"
    },
    "papermill": {
     "duration": 1.024846,
     "end_time": "2023-06-26T21:28:30.442855",
     "exception": false,
     "start_time": "2023-06-26T21:28:29.418009",
     "status": "completed"
    },
    "tags": []
   },
   "outputs": [
    {
     "data": {
      "text/plain": [
       "brand                           0\n",
       "model                           0\n",
       "color                         166\n",
       "registration_date               4\n",
       "year                            0\n",
       "price_in_euro                   0\n",
       "power_kw                      134\n",
       "power_ps                      129\n",
       "transmission_type               0\n",
       "fuel_type                       0\n",
       "fuel_consumption_l_100km    26873\n",
       "fuel_consumption_g_km           0\n",
       "mileage_in_km                 152\n",
       "offer_description               1\n",
       "dtype: int64"
      ]
     },
     "execution_count": 4,
     "metadata": {},
     "output_type": "execute_result"
    }
   ],
   "source": [
    "df.isnull().sum()"
   ]
  },
  {
   "cell_type": "code",
   "execution_count": 5,
   "id": "77a9d793",
   "metadata": {
    "execution": {
     "iopub.execute_input": "2023-06-26T21:28:30.459938Z",
     "iopub.status.busy": "2023-06-26T21:28:30.459290Z",
     "iopub.status.idle": "2023-06-26T21:28:31.444905Z",
     "shell.execute_reply": "2023-06-26T21:28:31.443782Z"
    },
    "papermill": {
     "duration": 0.997116,
     "end_time": "2023-06-26T21:28:31.447758",
     "exception": false,
     "start_time": "2023-06-26T21:28:30.450642",
     "status": "completed"
    },
    "tags": []
   },
   "outputs": [
    {
     "name": "stdout",
     "output_type": "stream",
     "text": [
      "brand                        0.000000\n",
      "model                        0.000000\n",
      "color                        0.066115\n",
      "registration_date            0.001593\n",
      "year                         0.000000\n",
      "price_in_euro                0.000000\n",
      "power_kw                     0.053370\n",
      "power_ps                     0.051378\n",
      "transmission_type            0.000000\n",
      "fuel_type                    0.000000\n",
      "fuel_consumption_l_100km    10.703006\n",
      "fuel_consumption_g_km        0.000000\n",
      "mileage_in_km                0.060539\n",
      "offer_description            0.000398\n",
      "dtype: float64\n"
     ]
    }
   ],
   "source": [
    "#To show the percentage of null values in each column\n",
    "null_percentages = df.isnull().sum() / len(df) * 100\n",
    "print(null_percentages)"
   ]
  },
  {
   "cell_type": "markdown",
   "id": "57a20828",
   "metadata": {
    "papermill": {
     "duration": 0.007252,
     "end_time": "2023-06-26T21:28:31.462999",
     "exception": false,
     "start_time": "2023-06-26T21:28:31.455747",
     "status": "completed"
    },
    "tags": []
   },
   "source": [
    "<p>It can be seen that highest number of null values can be seen in fuel_consumption_l_100km coulumn i.e 10.7 %</p>\n",
    "<li>Columns brand, model, year, transmission_type, fuel_type, fuel_consumption_g_km, and offer_description: These columns have no missing values (0% null), so no action is required.</li>\n",
    "<li>color, registration_date, power_kw, power_ps, and mileage_in_km: These columns have very low percentages of missing values.Best option is to drop the rows with missing values since the percentage is negligible (less than 0.1%)</li>\n",
    "<li>price_in_euro: This column also has no missing values (0% null), so no action is required.</li>\n",
    "<li>fuel_consumption_l_100km: This column has a relatively higher percentage of missing values (10.7%). You can consider using mean or median imputation to fill in the missing values. Another approach could be to explore if there are any patterns or correlations between this column </li>"
   ]
  },
  {
   "cell_type": "code",
   "execution_count": 6,
   "id": "87130715",
   "metadata": {
    "execution": {
     "iopub.execute_input": "2023-06-26T21:28:31.480142Z",
     "iopub.status.busy": "2023-06-26T21:28:31.479520Z",
     "iopub.status.idle": "2023-06-26T21:28:31.926144Z",
     "shell.execute_reply": "2023-06-26T21:28:31.925083Z"
    },
    "papermill": {
     "duration": 0.458208,
     "end_time": "2023-06-26T21:28:31.928826",
     "exception": false,
     "start_time": "2023-06-26T21:28:31.470618",
     "status": "completed"
    },
    "tags": []
   },
   "outputs": [],
   "source": [
    "#dropping less null containing columns\n",
    "\n",
    "df_dropped=df.dropna(subset=['color','registration_date','year','power_kw','power_ps','mileage_in_km'])\n"
   ]
  },
  {
   "cell_type": "code",
   "execution_count": 7,
   "id": "be457e42",
   "metadata": {
    "execution": {
     "iopub.execute_input": "2023-06-26T21:28:31.946271Z",
     "iopub.status.busy": "2023-06-26T21:28:31.945301Z",
     "iopub.status.idle": "2023-06-26T21:28:31.954026Z",
     "shell.execute_reply": "2023-06-26T21:28:31.952918Z"
    },
    "papermill": {
     "duration": 0.020151,
     "end_time": "2023-06-26T21:28:31.956527",
     "exception": false,
     "start_time": "2023-06-26T21:28:31.936376",
     "status": "completed"
    },
    "tags": []
   },
   "outputs": [
    {
     "data": {
      "text/plain": [
       "0         10,9 l/100 km\n",
       "1                   NaN\n",
       "2                   NaN\n",
       "3          9,5 l/100 km\n",
       "4          7,2 l/100 km\n",
       "              ...      \n",
       "251074              NaN\n",
       "251075     7,6 l/100 km\n",
       "251076     4,7 l/100 km\n",
       "251077              NaN\n",
       "251078              NaN\n",
       "Name: fuel_consumption_l_100km, Length: 250629, dtype: object"
      ]
     },
     "execution_count": 7,
     "metadata": {},
     "output_type": "execute_result"
    }
   ],
   "source": [
    "df_dropped['fuel_consumption_l_100km']"
   ]
  },
  {
   "cell_type": "code",
   "execution_count": 8,
   "id": "5b500f11",
   "metadata": {
    "execution": {
     "iopub.execute_input": "2023-06-26T21:28:31.974008Z",
     "iopub.status.busy": "2023-06-26T21:28:31.972905Z",
     "iopub.status.idle": "2023-06-26T21:28:32.164696Z",
     "shell.execute_reply": "2023-06-26T21:28:32.163841Z"
    },
    "papermill": {
     "duration": 0.202752,
     "end_time": "2023-06-26T21:28:32.167016",
     "exception": false,
     "start_time": "2023-06-26T21:28:31.964264",
     "status": "completed"
    },
    "tags": []
   },
   "outputs": [
    {
     "data": {
      "text/plain": [
       "True     249474\n",
       "False      1155\n",
       "Name: fuel_consumption_l_100km, dtype: int64"
      ]
     },
     "execution_count": 8,
     "metadata": {},
     "output_type": "execute_result"
    }
   ],
   "source": [
    "import pandas as pd\n",
    "substring = \"l/100 km\"\n",
    "matches = df_dropped['fuel_consumption_l_100km'].str.contains(substring,na=True)\n",
    "matches.value_counts()\n"
   ]
  },
  {
   "cell_type": "markdown",
   "id": "16d631e1",
   "metadata": {
    "papermill": {
     "duration": 0.007678,
     "end_time": "2023-06-26T21:28:32.182620",
     "exception": false,
     "start_time": "2023-06-26T21:28:32.174942",
     "status": "completed"
    },
    "tags": []
   },
   "source": [
    "This shows that 1155 contains units other than l/100 km i.e other units are dropped for example:::\n",
    "<li>km (Ort)</li>\n",
    "<li>g/km</li>\n",
    "<li>kWh/100 km</li>\n"
   ]
  },
  {
   "cell_type": "code",
   "execution_count": 9,
   "id": "07faffd9",
   "metadata": {
    "execution": {
     "iopub.execute_input": "2023-06-26T21:28:32.200693Z",
     "iopub.status.busy": "2023-06-26T21:28:32.199632Z",
     "iopub.status.idle": "2023-06-26T21:28:32.257624Z",
     "shell.execute_reply": "2023-06-26T21:28:32.256491Z"
    },
    "papermill": {
     "duration": 0.069963,
     "end_time": "2023-06-26T21:28:32.260442",
     "exception": false,
     "start_time": "2023-06-26T21:28:32.190479",
     "status": "completed"
    },
    "tags": []
   },
   "outputs": [],
   "source": [
    "filtered_df = df_dropped[matches==True]\n"
   ]
  },
  {
   "cell_type": "code",
   "execution_count": 10,
   "id": "4fa358ff",
   "metadata": {
    "execution": {
     "iopub.execute_input": "2023-06-26T21:28:32.277478Z",
     "iopub.status.busy": "2023-06-26T21:28:32.277151Z",
     "iopub.status.idle": "2023-06-26T21:28:32.978308Z",
     "shell.execute_reply": "2023-06-26T21:28:32.977355Z"
    },
    "papermill": {
     "duration": 0.713301,
     "end_time": "2023-06-26T21:28:32.981713",
     "exception": false,
     "start_time": "2023-06-26T21:28:32.268412",
     "status": "completed"
    },
    "tags": []
   },
   "outputs": [
    {
     "name": "stderr",
     "output_type": "stream",
     "text": [
      "/tmp/ipykernel_20/1814833613.py:2: SettingWithCopyWarning: \n",
      "A value is trying to be set on a copy of a slice from a DataFrame.\n",
      "Try using .loc[row_indexer,col_indexer] = value instead\n",
      "\n",
      "See the caveats in the documentation: https://pandas.pydata.org/pandas-docs/stable/user_guide/indexing.html#returning-a-view-versus-a-copy\n",
      "  filtered_df.loc[:, 'fuel_consumption_l_100km'] = filtered_df['fuel_consumption_l_100km'].str.replace('l/100 km', '').str.replace(\",\", '.')\n",
      "/tmp/ipykernel_20/1814833613.py:3: SettingWithCopyWarning: \n",
      "A value is trying to be set on a copy of a slice from a DataFrame.\n",
      "Try using .loc[row_indexer,col_indexer] = value instead\n",
      "\n",
      "See the caveats in the documentation: https://pandas.pydata.org/pandas-docs/stable/user_guide/indexing.html#returning-a-view-versus-a-copy\n",
      "  filtered_df.loc[:, 'fuel_consumption_l_100km'] = filtered_df['fuel_consumption_l_100km'].replace('- ()', np.nan)\n",
      "/tmp/ipykernel_20/1814833613.py:4: SettingWithCopyWarning: \n",
      "A value is trying to be set on a copy of a slice from a DataFrame.\n",
      "Try using .loc[row_indexer,col_indexer] = value instead\n",
      "\n",
      "See the caveats in the documentation: https://pandas.pydata.org/pandas-docs/stable/user_guide/indexing.html#returning-a-view-versus-a-copy\n",
      "  filtered_df.loc[:, 'fuel_consumption_l_100km'] = filtered_df['fuel_consumption_l_100km'].str.replace('l/100 km', '').astype(float)\n",
      "/tmp/ipykernel_20/1814833613.py:4: DeprecationWarning: In a future version, `df.iloc[:, i] = newvals` will attempt to set the values inplace instead of always setting a new array. To retain the old behavior, use either `df[df.columns[i]] = newvals` or, if columns are non-unique, `df.isetitem(i, newvals)`\n",
      "  filtered_df.loc[:, 'fuel_consumption_l_100km'] = filtered_df['fuel_consumption_l_100km'].str.replace('l/100 km', '').astype(float)\n"
     ]
    }
   ],
   "source": [
    "import pandas as pd\n",
    "filtered_df.loc[:, 'fuel_consumption_l_100km'] = filtered_df['fuel_consumption_l_100km'].str.replace('l/100 km', '').str.replace(\",\", '.')\n",
    "filtered_df.loc[:, 'fuel_consumption_l_100km'] = filtered_df['fuel_consumption_l_100km'].replace('- ()', np.nan)\n",
    "filtered_df.loc[:, 'fuel_consumption_l_100km'] = filtered_df['fuel_consumption_l_100km'].str.replace('l/100 km', '').astype(float)\n",
    "mean_val=filtered_df['fuel_consumption_l_100km'].dropna().mean()\n",
    "\n"
   ]
  },
  {
   "cell_type": "code",
   "execution_count": 11,
   "id": "8ebdd36e",
   "metadata": {
    "execution": {
     "iopub.execute_input": "2023-06-26T21:28:32.998953Z",
     "iopub.status.busy": "2023-06-26T21:28:32.998589Z",
     "iopub.status.idle": "2023-06-26T21:28:33.008422Z",
     "shell.execute_reply": "2023-06-26T21:28:33.007457Z"
    },
    "papermill": {
     "duration": 0.020584,
     "end_time": "2023-06-26T21:28:33.010332",
     "exception": false,
     "start_time": "2023-06-26T21:28:32.989748",
     "status": "completed"
    },
    "tags": []
   },
   "outputs": [
    {
     "data": {
      "text/plain": [
       "0         10.900000\n",
       "1          6.088828\n",
       "2          6.088828\n",
       "3          9.500000\n",
       "4          7.200000\n",
       "            ...    \n",
       "251074     6.088828\n",
       "251075     7.600000\n",
       "251076     4.700000\n",
       "251077     6.088828\n",
       "251078     6.088828\n",
       "Name: fuel_consumption_l_100km, Length: 249474, dtype: float64"
      ]
     },
     "execution_count": 11,
     "metadata": {},
     "output_type": "execute_result"
    }
   ],
   "source": [
    "filtered_df['fuel_consumption_l_100km'].fillna(mean_val)"
   ]
  },
  {
   "cell_type": "code",
   "execution_count": null,
   "id": "2ff4051a",
   "metadata": {
    "papermill": {
     "duration": 0.007757,
     "end_time": "2023-06-26T21:28:33.025891",
     "exception": false,
     "start_time": "2023-06-26T21:28:33.018134",
     "status": "completed"
    },
    "tags": []
   },
   "outputs": [],
   "source": []
  },
  {
   "cell_type": "code",
   "execution_count": null,
   "id": "7b64bbbc",
   "metadata": {
    "papermill": {
     "duration": 0.007618,
     "end_time": "2023-06-26T21:28:33.041316",
     "exception": false,
     "start_time": "2023-06-26T21:28:33.033698",
     "status": "completed"
    },
    "tags": []
   },
   "outputs": [],
   "source": []
  },
  {
   "cell_type": "code",
   "execution_count": null,
   "id": "ad509dbc",
   "metadata": {
    "papermill": {
     "duration": 0.00796,
     "end_time": "2023-06-26T21:28:33.057414",
     "exception": false,
     "start_time": "2023-06-26T21:28:33.049454",
     "status": "completed"
    },
    "tags": []
   },
   "outputs": [],
   "source": []
  },
  {
   "cell_type": "code",
   "execution_count": null,
   "id": "c76ae638",
   "metadata": {
    "papermill": {
     "duration": 0.00775,
     "end_time": "2023-06-26T21:28:33.072994",
     "exception": false,
     "start_time": "2023-06-26T21:28:33.065244",
     "status": "completed"
    },
    "tags": []
   },
   "outputs": [],
   "source": []
  },
  {
   "cell_type": "code",
   "execution_count": null,
   "id": "4cc893ff",
   "metadata": {
    "papermill": {
     "duration": 0.007583,
     "end_time": "2023-06-26T21:28:33.088758",
     "exception": false,
     "start_time": "2023-06-26T21:28:33.081175",
     "status": "completed"
    },
    "tags": []
   },
   "outputs": [],
   "source": []
  },
  {
   "cell_type": "code",
   "execution_count": null,
   "id": "d3bcfaaf",
   "metadata": {
    "papermill": {
     "duration": 0.007593,
     "end_time": "2023-06-26T21:28:33.104095",
     "exception": false,
     "start_time": "2023-06-26T21:28:33.096502",
     "status": "completed"
    },
    "tags": []
   },
   "outputs": [],
   "source": []
  },
  {
   "cell_type": "code",
   "execution_count": null,
   "id": "d9074f88",
   "metadata": {
    "papermill": {
     "duration": 0.007717,
     "end_time": "2023-06-26T21:28:33.119516",
     "exception": false,
     "start_time": "2023-06-26T21:28:33.111799",
     "status": "completed"
    },
    "tags": []
   },
   "outputs": [],
   "source": []
  },
  {
   "cell_type": "code",
   "execution_count": null,
   "id": "5ace7547",
   "metadata": {
    "papermill": {
     "duration": 0.007688,
     "end_time": "2023-06-26T21:28:33.135103",
     "exception": false,
     "start_time": "2023-06-26T21:28:33.127415",
     "status": "completed"
    },
    "tags": []
   },
   "outputs": [],
   "source": []
  }
 ],
 "metadata": {
  "kernelspec": {
   "display_name": "Python 3",
   "language": "python",
   "name": "python3"
  },
  "language_info": {
   "codemirror_mode": {
    "name": "ipython",
    "version": 3
   },
   "file_extension": ".py",
   "mimetype": "text/x-python",
   "name": "python",
   "nbconvert_exporter": "python",
   "pygments_lexer": "ipython3",
   "version": "3.10.10"
  },
  "papermill": {
   "default_parameters": {},
   "duration": 18.132214,
   "end_time": "2023-06-26T21:28:33.964201",
   "environment_variables": {},
   "exception": null,
   "input_path": "__notebook__.ipynb",
   "output_path": "__notebook__.ipynb",
   "parameters": {},
   "start_time": "2023-06-26T21:28:15.831987",
   "version": "2.4.0"
  }
 },
 "nbformat": 4,
 "nbformat_minor": 5
}
